{
 "cells": [
  {
   "cell_type": "code",
   "execution_count": 1,
   "metadata": {},
   "outputs": [
    {
     "name": "stdout",
     "output_type": "stream",
     "text": [
      "Connection successful!\n",
      "Current Time: (datetime.datetime(2025, 3, 9, 1, 13, 15, 625620, tzinfo=datetime.timezone.utc),)\n",
      "Connection closed.\n"
     ]
    }
   ],
   "source": [
    "import psycopg2\n",
    "from dotenv import load_dotenv\n",
    "import os\n",
    "\n",
    "# Load environment variables from .env\n",
    "load_dotenv()\n",
    "\n",
    "# Fetch variables\n",
    "USER = os.getenv(\"user\")\n",
    "PASSWORD = os.getenv(\"password\")\n",
    "HOST = os.getenv(\"host\")\n",
    "PORT = os.getenv(\"port\")\n",
    "DBNAME = os.getenv(\"dbname\")\n",
    "\n",
    "# Connect to the database\n",
    "try:\n",
    "    connection = psycopg2.connect(\n",
    "        user=USER,\n",
    "        password=PASSWORD,\n",
    "        host=HOST,\n",
    "        port=PORT,\n",
    "        dbname=DBNAME,\n",
    "    )\n",
    "    print(\"Connection successful!\")\n",
    "\n",
    "    # Create a cursor to execute SQL queries\n",
    "    cursor = connection.cursor()\n",
    "\n",
    "    # Example query\n",
    "    cursor.execute(\"SELECT NOW();\")\n",
    "    result = cursor.fetchone()\n",
    "    print(\"Current Time:\", result)\n",
    "\n",
    "    # Close the cursor and connection\n",
    "    cursor.close()\n",
    "    connection.close()\n",
    "    print(\"Connection closed.\")\n",
    "\n",
    "except Exception as e:\n",
    "    print(f\"Failed to connect: {e}\")"
   ]
  },
  {
   "cell_type": "code",
   "execution_count": 2,
   "metadata": {},
   "outputs": [
    {
     "name": "stdout",
     "output_type": "stream",
     "text": [
      "Connection successful!\n",
      "Table altered successfully!\n",
      "Connection closed.\n"
     ]
    }
   ],
   "source": [
    "# Connect to the database\n",
    "try:\n",
    "    connection = psycopg2.connect(\n",
    "        user=USER,\n",
    "        password=PASSWORD,\n",
    "        host=HOST,\n",
    "        port=PORT,\n",
    "        dbname=DBNAME,\n",
    "    )\n",
    "    print(\"Connection successful!\")\n",
    "\n",
    "    # Create a cursor to execute SQL queries\n",
    "    cursor = connection.cursor()\n",
    "\n",
    "    # SQL to alter the table schema by adding new columns\n",
    "    alter_table_query = \"\"\"\n",
    "    ALTER TABLE applications\n",
    "      ADD COLUMN name TEXT,\n",
    "      ADD COLUMN dob DATE,\n",
    "      ADD COLUMN ssn TEXT,\n",
    "      ADD COLUMN resstreet TEXT,\n",
    "      ADD COLUMN rescity TEXT,\n",
    "      ADD COLUMN resstate TEXT,\n",
    "      ADD COLUMN reszip TEXT,\n",
    "      ADD COLUMN rescountry TEXT,\n",
    "      ADD COLUMN mailstreet TEXT,\n",
    "      ADD COLUMN mailcity TEXT,\n",
    "      ADD COLUMN mailstate TEXT,\n",
    "      ADD COLUMN mailzip TEXT,\n",
    "      ADD COLUMN mailcountry TEXT,\n",
    "      ADD COLUMN phone TEXT,\n",
    "      ADD COLUMN email TEXT,\n",
    "      ADD COLUMN employer TEXT,\n",
    "      ADD COLUMN income NUMERIC,\n",
    "      ADD COLUMN otherincome NUMERIC,\n",
    "      ADD COLUMN bankdetails TEXT,\n",
    "      ADD COLUMN creditscore INTEGER CHECK (creditscore BETWEEN 300 AND 850),\n",
    "      ADD COLUMN creditlimit NUMERIC,\n",
    "      ADD COLUMN duedate TEXT,\n",
    "      ADD COLUMN finalname TEXT,\n",
    "      ADD COLUMN finaldate DATE,\n",
    "      ADD COLUMN finalsignature TEXT;\n",
    "    \"\"\"\n",
    "\n",
    "    # Execute the ALTER TABLE command\n",
    "    cursor.execute(alter_table_query)\n",
    "    connection.commit()  # Commit the changes\n",
    "\n",
    "    print(\"Table altered successfully!\")\n",
    "\n",
    "    # Close the cursor and connection\n",
    "    cursor.close()\n",
    "    connection.close()\n",
    "    print(\"Connection closed.\")\n",
    "\n",
    "except Exception as e:\n",
    "    print(f\"Failed to connect: {e}\")"
   ]
  }
 ],
 "metadata": {
  "kernelspec": {
   "display_name": "hackmerced",
   "language": "python",
   "name": "python3"
  },
  "language_info": {
   "codemirror_mode": {
    "name": "ipython",
    "version": 3
   },
   "file_extension": ".py",
   "mimetype": "text/x-python",
   "name": "python",
   "nbconvert_exporter": "python",
   "pygments_lexer": "ipython3",
   "version": "3.10.16"
  }
 },
 "nbformat": 4,
 "nbformat_minor": 2
}
